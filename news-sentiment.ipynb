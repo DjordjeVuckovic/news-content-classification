{
 "cells": [
  {
   "cell_type": "code",
   "execution_count": 2,
   "id": "initial_id",
   "metadata": {
    "collapsed": true,
    "ExecuteTime": {
     "end_time": "2024-01-26T13:55:18.803774700Z",
     "start_time": "2024-01-26T13:55:12.782635800Z"
    }
   },
   "outputs": [],
   "source": [
    "from germansentiment import SentimentModel"
   ]
  },
  {
   "cell_type": "code",
   "outputs": [
    {
     "name": "stdout",
     "output_type": "stream",
     "text": [
      "['neutral']\n"
     ]
    }
   ],
   "source": [
    "model = SentimentModel('mdraw/german-news-sentiment-bert')\n",
    "\n",
    "# Examples from our validation dataset\n",
    "texts = [\n",
    "    '[...], schwärmt der parteilose Vizebürgermeister und Historiker Christian Matzka von der \"tollen Helferszene\".',\n",
    "    'Flüchtlingsheim 11.05 Uhr: Massenschlägerei',\n",
    "    'Rotterdam habe einen Migrantenanteil von mehr als 50 Prozent.',\n",
    "]\n",
    "\n",
    "result = model.predict_sentiment(texts)\n",
    "\n",
    "print(result)"
   ],
   "metadata": {
    "collapsed": false,
    "ExecuteTime": {
     "end_time": "2024-01-26T14:28:42.572790800Z",
     "start_time": "2024-01-26T14:28:41.340194500Z"
    }
   },
   "id": "a80cc0e6091b6dc5",
   "execution_count": 11
  }
 ],
 "metadata": {
  "kernelspec": {
   "display_name": "Python 3",
   "language": "python",
   "name": "python3"
  },
  "language_info": {
   "codemirror_mode": {
    "name": "ipython",
    "version": 2
   },
   "file_extension": ".py",
   "mimetype": "text/x-python",
   "name": "python",
   "nbconvert_exporter": "python",
   "pygments_lexer": "ipython2",
   "version": "2.7.6"
  }
 },
 "nbformat": 4,
 "nbformat_minor": 5
}
